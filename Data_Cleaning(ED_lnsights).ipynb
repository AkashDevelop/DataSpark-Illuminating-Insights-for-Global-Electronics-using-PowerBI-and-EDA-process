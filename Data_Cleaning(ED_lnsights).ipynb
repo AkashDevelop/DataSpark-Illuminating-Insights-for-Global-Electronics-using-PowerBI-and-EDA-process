{
 "cells": [
  {
   "cell_type": "code",
   "execution_count": 2,
   "metadata": {},
   "outputs": [],
   "source": [
    "import pandas as pd \n",
    "\n",
    "#load dataset\n",
    "\n",
    "Customers_data=pd.read_csv('E:\\DataSpark project\\Customers.csv',encoding='iso-8859-1')\n",
    "Exchange_rates=pd.read_csv('E:\\DataSpark project\\Exchange_Rates.csv',encoding='iso-8859-1')\n",
    "Product_data=pd.read_csv('E:\\DataSpark project\\Products.csv',encoding='iso-8859-1')\n",
    "sales_data=pd.read_csv('E:\\DataSpark project\\Sales.csv',encoding='iso-8859-1')\n",
    "stores_data=pd.read_csv('E:\\DataSpark project\\Stores.csv',encoding='iso-8859-1')\n"
   ]
  },
  {
   "cell_type": "code",
   "execution_count": 3,
   "metadata": {},
   "outputs": [
    {
     "name": "stdout",
     "output_type": "stream",
     "text": [
      "   CustomerKey  Gender               Name            City State Code  \\\n",
      "0          301  Female      Lilly Harding  WANDEARAH EAST         SA   \n",
      "1          325  Female       Madison Hull      MOUNT BUDD         WA   \n",
      "2          554  Female      Claire Ferres       WINJALLOK        VIC   \n",
      "3          786    Male  Jai Poltpalingada    MIDDLE RIVER         SA   \n",
      "4         1042    Male    Aidan Pankhurst   TAWONGA SOUTH        VIC   \n",
      "\n",
      "               State Zip Code    Country  Continent    Birthday  \n",
      "0    South Australia     5523  Australia  Australia    7/3/1939  \n",
      "1  Western Australia     6522  Australia  Australia   9/27/1979  \n",
      "2           Victoria     3380  Australia  Australia   5/26/1947  \n",
      "3    South Australia     5223  Australia  Australia   9/17/1957  \n",
      "4           Victoria     3698  Australia  Australia  11/19/1965  \n",
      "       Date Currency  Exchange\n",
      "0  1/1/2015      USD    1.0000\n",
      "1  1/1/2015      CAD    1.1583\n",
      "2  1/1/2015      AUD    1.2214\n",
      "3  1/1/2015      EUR    0.8237\n",
      "4  1/1/2015      GBP    0.6415\n",
      "   ProductKey                         Product Name    Brand   Color  \\\n",
      "0           1  Contoso 512MB MP3 Player E51 Silver  Contoso  Silver   \n",
      "1           2    Contoso 512MB MP3 Player E51 Blue  Contoso    Blue   \n",
      "2           3     Contoso 1G MP3 Player E100 White  Contoso   White   \n",
      "3           4    Contoso 2G MP3 Player E200 Silver  Contoso  Silver   \n",
      "4           5       Contoso 2G MP3 Player E200 Red  Contoso     Red   \n",
      "\n",
      "  Unit Cost USD Unit Price USD  SubcategoryKey Subcategory  CategoryKey  \\\n",
      "0        $6.62         $12.99              101     MP4&MP3            1   \n",
      "1        $6.62         $12.99              101     MP4&MP3            1   \n",
      "2        $7.40         $14.52              101     MP4&MP3            1   \n",
      "3       $11.00         $21.57              101     MP4&MP3            1   \n",
      "4       $11.00         $21.57              101     MP4&MP3            1   \n",
      "\n",
      "  Category  \n",
      "0    Audio  \n",
      "1    Audio  \n",
      "2    Audio  \n",
      "3    Audio  \n",
      "4    Audio  \n",
      "   Order Number  Line Item Order Date Delivery Date  CustomerKey  StoreKey  \\\n",
      "0        366000          1   1/1/2016           NaN       265598        10   \n",
      "1        366001          1   1/1/2016     1/13/2016      1269051         0   \n",
      "2        366001          2   1/1/2016     1/13/2016      1269051         0   \n",
      "3        366002          1   1/1/2016     1/12/2016       266019         0   \n",
      "4        366002          2   1/1/2016     1/12/2016       266019         0   \n",
      "\n",
      "   ProductKey  Quantity Currency Code  \n",
      "0        1304         1           CAD  \n",
      "1        1048         2           USD  \n",
      "2        2007         1           USD  \n",
      "3        1106         7           CAD  \n",
      "4         373         1           CAD  \n",
      "   StoreKey    Country                         State  Square Meters  Open Date\n",
      "0         1  Australia  Australian Capital Territory          595.0   1/1/2008\n",
      "1         2  Australia            Northern Territory          665.0  1/12/2008\n",
      "2         3  Australia               South Australia         2000.0   1/7/2012\n",
      "3         4  Australia                      Tasmania         2000.0   1/1/2010\n",
      "4         5  Australia                      Victoria         2000.0  12/9/2015\n"
     ]
    }
   ],
   "source": [
    "print(Customers_data.head())\n",
    "print(Exchange_rates.head())\n",
    "print(Product_data.head())\n",
    "print(sales_data.head())\n",
    "print(stores_data.head())"
   ]
  },
  {
   "cell_type": "code",
   "execution_count": 4,
   "metadata": {},
   "outputs": [
    {
     "name": "stdout",
     "output_type": "stream",
     "text": [
      "CustomerKey     0\n",
      "Gender          0\n",
      "Name            0\n",
      "City            0\n",
      "State Code     10\n",
      "State           0\n",
      "Zip Code        0\n",
      "Country         0\n",
      "Continent       0\n",
      "Birthday        0\n",
      "dtype: int64\n",
      "Date        0\n",
      "Currency    0\n",
      "Exchange    0\n",
      "dtype: int64\n",
      "ProductKey        0\n",
      "Product Name      0\n",
      "Brand             0\n",
      "Color             0\n",
      "Unit Cost USD     0\n",
      "Unit Price USD    0\n",
      "SubcategoryKey    0\n",
      "Subcategory       0\n",
      "CategoryKey       0\n",
      "Category          0\n",
      "dtype: int64\n",
      "Order Number         0\n",
      "Line Item            0\n",
      "Order Date           0\n",
      "Delivery Date    49719\n",
      "CustomerKey          0\n",
      "StoreKey             0\n",
      "ProductKey           0\n",
      "Quantity             0\n",
      "Currency Code        0\n",
      "dtype: int64\n",
      "StoreKey         0\n",
      "Country          0\n",
      "State            0\n",
      "Square Meters    1\n",
      "Open Date        0\n",
      "dtype: int64\n"
     ]
    }
   ],
   "source": [
    "print(Customers_data.isnull().sum())\n",
    "print(Exchange_rates.isnull().sum())\n",
    "print(Product_data.isnull().sum())\n",
    "print(sales_data.isnull().sum())\n",
    "print(stores_data.isnull().sum())"
   ]
  },
  {
   "cell_type": "code",
   "execution_count": 5,
   "metadata": {},
   "outputs": [],
   "source": [
    "#use fill with 'unknown' for null values in dataset  for customer data becuse  The number of missing values is small, so filling with 'Unknown' preserves the integrity of the dataset without making potentially incorrect assumptions.\n",
    "\n",
    "#Filling missing values in Customers_data - 'State Code' with 'Unknown'\n",
    "\n",
    "Customers_data['State Code'].fillna('Unknown',inplace=True)\n"
   ]
  },
  {
   "cell_type": "code",
   "execution_count": 6,
   "metadata": {},
   "outputs": [],
   "source": [
    "# Filling missing values in Sales_data - 'Delivery Date' with 'Unknown'\n",
    "\n",
    "sales_data['Delivery Date'].fillna('unknown',inplace=True)"
   ]
  },
  {
   "cell_type": "code",
   "execution_count": 7,
   "metadata": {},
   "outputs": [],
   "source": [
    "# Filling missing values in Stores_data - 'Square Meters' with the most frequent value  Since there's only 1 missing value, we'll fill it with the most frequent value (mode).\n",
    "\n",
    "most_frequent_square_meters=stores_data['Square Meters'].mode()[0]\n",
    "stores_data['Square Meters'].fillna(most_frequent_square_meters,inplace=True)\n",
    "\n",
    "#State Code and Delivery Date columns are filled with 'Unknown'.\n",
    "#Square Meters is filled with the most frequent value from the dataset."
   ]
  },
  {
   "cell_type": "code",
   "execution_count": 10,
   "metadata": {},
   "outputs": [
    {
     "data": {
      "text/html": [
       "<div>\n",
       "<style scoped>\n",
       "    .dataframe tbody tr th:only-of-type {\n",
       "        vertical-align: middle;\n",
       "    }\n",
       "\n",
       "    .dataframe tbody tr th {\n",
       "        vertical-align: top;\n",
       "    }\n",
       "\n",
       "    .dataframe thead th {\n",
       "        text-align: right;\n",
       "    }\n",
       "</style>\n",
       "<table border=\"1\" class=\"dataframe\">\n",
       "  <thead>\n",
       "    <tr style=\"text-align: right;\">\n",
       "      <th></th>\n",
       "      <th>CustomerKey</th>\n",
       "    </tr>\n",
       "  </thead>\n",
       "  <tbody>\n",
       "    <tr>\n",
       "      <th>count</th>\n",
       "      <td>1.526600e+04</td>\n",
       "    </tr>\n",
       "    <tr>\n",
       "      <th>mean</th>\n",
       "      <td>1.060508e+06</td>\n",
       "    </tr>\n",
       "    <tr>\n",
       "      <th>std</th>\n",
       "      <td>6.127097e+05</td>\n",
       "    </tr>\n",
       "    <tr>\n",
       "      <th>min</th>\n",
       "      <td>3.010000e+02</td>\n",
       "    </tr>\n",
       "    <tr>\n",
       "      <th>25%</th>\n",
       "      <td>5.140335e+05</td>\n",
       "    </tr>\n",
       "    <tr>\n",
       "      <th>50%</th>\n",
       "      <td>1.079244e+06</td>\n",
       "    </tr>\n",
       "    <tr>\n",
       "      <th>75%</th>\n",
       "      <td>1.593980e+06</td>\n",
       "    </tr>\n",
       "    <tr>\n",
       "      <th>max</th>\n",
       "      <td>2.099937e+06</td>\n",
       "    </tr>\n",
       "  </tbody>\n",
       "</table>\n",
       "</div>"
      ],
      "text/plain": [
       "        CustomerKey\n",
       "count  1.526600e+04\n",
       "mean   1.060508e+06\n",
       "std    6.127097e+05\n",
       "min    3.010000e+02\n",
       "25%    5.140335e+05\n",
       "50%    1.079244e+06\n",
       "75%    1.593980e+06\n",
       "max    2.099937e+06"
      ]
     },
     "execution_count": 10,
     "metadata": {},
     "output_type": "execute_result"
    }
   ],
   "source": [
    "Customers_data.describe()\n",
    "Exchange_rates.describe()\n",
    "Product_data.describe()\n",
    "sales_data.describe()\n",
    "stores_data.describe()\n"
   ]
  },
  {
   "cell_type": "code",
   "execution_count": 11,
   "metadata": {},
   "outputs": [
    {
     "data": {
      "text/html": [
       "<div>\n",
       "<style scoped>\n",
       "    .dataframe tbody tr th:only-of-type {\n",
       "        vertical-align: middle;\n",
       "    }\n",
       "\n",
       "    .dataframe tbody tr th {\n",
       "        vertical-align: top;\n",
       "    }\n",
       "\n",
       "    .dataframe thead th {\n",
       "        text-align: right;\n",
       "    }\n",
       "</style>\n",
       "<table border=\"1\" class=\"dataframe\">\n",
       "  <thead>\n",
       "    <tr style=\"text-align: right;\">\n",
       "      <th></th>\n",
       "      <th>Exchange</th>\n",
       "    </tr>\n",
       "  </thead>\n",
       "  <tbody>\n",
       "    <tr>\n",
       "      <th>count</th>\n",
       "      <td>11215.000000</td>\n",
       "    </tr>\n",
       "    <tr>\n",
       "      <th>mean</th>\n",
       "      <td>1.061682</td>\n",
       "    </tr>\n",
       "    <tr>\n",
       "      <th>std</th>\n",
       "      <td>0.245519</td>\n",
       "    </tr>\n",
       "    <tr>\n",
       "      <th>min</th>\n",
       "      <td>0.628500</td>\n",
       "    </tr>\n",
       "    <tr>\n",
       "      <th>25%</th>\n",
       "      <td>0.857800</td>\n",
       "    </tr>\n",
       "    <tr>\n",
       "      <th>50%</th>\n",
       "      <td>1.000000</td>\n",
       "    </tr>\n",
       "    <tr>\n",
       "      <th>75%</th>\n",
       "      <td>1.311900</td>\n",
       "    </tr>\n",
       "    <tr>\n",
       "      <th>max</th>\n",
       "      <td>1.725300</td>\n",
       "    </tr>\n",
       "  </tbody>\n",
       "</table>\n",
       "</div>"
      ],
      "text/plain": [
       "           Exchange\n",
       "count  11215.000000\n",
       "mean       1.061682\n",
       "std        0.245519\n",
       "min        0.628500\n",
       "25%        0.857800\n",
       "50%        1.000000\n",
       "75%        1.311900\n",
       "max        1.725300"
      ]
     },
     "execution_count": 11,
     "metadata": {},
     "output_type": "execute_result"
    }
   ],
   "source": [
    "Exchange_rates.describe()"
   ]
  },
  {
   "cell_type": "code",
   "execution_count": 12,
   "metadata": {},
   "outputs": [
    {
     "data": {
      "text/html": [
       "<div>\n",
       "<style scoped>\n",
       "    .dataframe tbody tr th:only-of-type {\n",
       "        vertical-align: middle;\n",
       "    }\n",
       "\n",
       "    .dataframe tbody tr th {\n",
       "        vertical-align: top;\n",
       "    }\n",
       "\n",
       "    .dataframe thead th {\n",
       "        text-align: right;\n",
       "    }\n",
       "</style>\n",
       "<table border=\"1\" class=\"dataframe\">\n",
       "  <thead>\n",
       "    <tr style=\"text-align: right;\">\n",
       "      <th></th>\n",
       "      <th>ProductKey</th>\n",
       "      <th>SubcategoryKey</th>\n",
       "      <th>CategoryKey</th>\n",
       "    </tr>\n",
       "  </thead>\n",
       "  <tbody>\n",
       "    <tr>\n",
       "      <th>count</th>\n",
       "      <td>2517.000000</td>\n",
       "      <td>2517.000000</td>\n",
       "      <td>2517.000000</td>\n",
       "    </tr>\n",
       "    <tr>\n",
       "      <th>mean</th>\n",
       "      <td>1259.000000</td>\n",
       "      <td>491.810091</td>\n",
       "      <td>4.878824</td>\n",
       "    </tr>\n",
       "    <tr>\n",
       "      <th>std</th>\n",
       "      <td>726.739637</td>\n",
       "      <td>229.887134</td>\n",
       "      <td>2.299170</td>\n",
       "    </tr>\n",
       "    <tr>\n",
       "      <th>min</th>\n",
       "      <td>1.000000</td>\n",
       "      <td>101.000000</td>\n",
       "      <td>1.000000</td>\n",
       "    </tr>\n",
       "    <tr>\n",
       "      <th>25%</th>\n",
       "      <td>630.000000</td>\n",
       "      <td>305.000000</td>\n",
       "      <td>3.000000</td>\n",
       "    </tr>\n",
       "    <tr>\n",
       "      <th>50%</th>\n",
       "      <td>1259.000000</td>\n",
       "      <td>406.000000</td>\n",
       "      <td>4.000000</td>\n",
       "    </tr>\n",
       "    <tr>\n",
       "      <th>75%</th>\n",
       "      <td>1888.000000</td>\n",
       "      <td>801.000000</td>\n",
       "      <td>8.000000</td>\n",
       "    </tr>\n",
       "    <tr>\n",
       "      <th>max</th>\n",
       "      <td>2517.000000</td>\n",
       "      <td>808.000000</td>\n",
       "      <td>8.000000</td>\n",
       "    </tr>\n",
       "  </tbody>\n",
       "</table>\n",
       "</div>"
      ],
      "text/plain": [
       "        ProductKey  SubcategoryKey  CategoryKey\n",
       "count  2517.000000     2517.000000  2517.000000\n",
       "mean   1259.000000      491.810091     4.878824\n",
       "std     726.739637      229.887134     2.299170\n",
       "min       1.000000      101.000000     1.000000\n",
       "25%     630.000000      305.000000     3.000000\n",
       "50%    1259.000000      406.000000     4.000000\n",
       "75%    1888.000000      801.000000     8.000000\n",
       "max    2517.000000      808.000000     8.000000"
      ]
     },
     "execution_count": 12,
     "metadata": {},
     "output_type": "execute_result"
    }
   ],
   "source": [
    "Product_data.describe()"
   ]
  },
  {
   "cell_type": "code",
   "execution_count": 13,
   "metadata": {},
   "outputs": [
    {
     "data": {
      "text/html": [
       "<div>\n",
       "<style scoped>\n",
       "    .dataframe tbody tr th:only-of-type {\n",
       "        vertical-align: middle;\n",
       "    }\n",
       "\n",
       "    .dataframe tbody tr th {\n",
       "        vertical-align: top;\n",
       "    }\n",
       "\n",
       "    .dataframe thead th {\n",
       "        text-align: right;\n",
       "    }\n",
       "</style>\n",
       "<table border=\"1\" class=\"dataframe\">\n",
       "  <thead>\n",
       "    <tr style=\"text-align: right;\">\n",
       "      <th></th>\n",
       "      <th>Order Number</th>\n",
       "      <th>Line Item</th>\n",
       "      <th>CustomerKey</th>\n",
       "      <th>StoreKey</th>\n",
       "      <th>ProductKey</th>\n",
       "      <th>Quantity</th>\n",
       "    </tr>\n",
       "  </thead>\n",
       "  <tbody>\n",
       "    <tr>\n",
       "      <th>count</th>\n",
       "      <td>6.288400e+04</td>\n",
       "      <td>62884.000000</td>\n",
       "      <td>6.288400e+04</td>\n",
       "      <td>62884.000000</td>\n",
       "      <td>62884.000000</td>\n",
       "      <td>62884.000000</td>\n",
       "    </tr>\n",
       "    <tr>\n",
       "      <th>mean</th>\n",
       "      <td>1.430905e+06</td>\n",
       "      <td>2.164207</td>\n",
       "      <td>1.180797e+06</td>\n",
       "      <td>31.802144</td>\n",
       "      <td>1125.859344</td>\n",
       "      <td>3.144790</td>\n",
       "    </tr>\n",
       "    <tr>\n",
       "      <th>std</th>\n",
       "      <td>4.532963e+05</td>\n",
       "      <td>1.365170</td>\n",
       "      <td>5.859634e+05</td>\n",
       "      <td>22.978188</td>\n",
       "      <td>709.244010</td>\n",
       "      <td>2.256371</td>\n",
       "    </tr>\n",
       "    <tr>\n",
       "      <th>min</th>\n",
       "      <td>3.660000e+05</td>\n",
       "      <td>1.000000</td>\n",
       "      <td>3.010000e+02</td>\n",
       "      <td>0.000000</td>\n",
       "      <td>1.000000</td>\n",
       "      <td>1.000000</td>\n",
       "    </tr>\n",
       "    <tr>\n",
       "      <th>25%</th>\n",
       "      <td>1.121017e+06</td>\n",
       "      <td>1.000000</td>\n",
       "      <td>6.808580e+05</td>\n",
       "      <td>8.000000</td>\n",
       "      <td>437.000000</td>\n",
       "      <td>1.000000</td>\n",
       "    </tr>\n",
       "    <tr>\n",
       "      <th>50%</th>\n",
       "      <td>1.498016e+06</td>\n",
       "      <td>2.000000</td>\n",
       "      <td>1.261200e+06</td>\n",
       "      <td>37.000000</td>\n",
       "      <td>1358.000000</td>\n",
       "      <td>2.000000</td>\n",
       "    </tr>\n",
       "    <tr>\n",
       "      <th>75%</th>\n",
       "      <td>1.788010e+06</td>\n",
       "      <td>3.000000</td>\n",
       "      <td>1.686496e+06</td>\n",
       "      <td>53.000000</td>\n",
       "      <td>1650.000000</td>\n",
       "      <td>4.000000</td>\n",
       "    </tr>\n",
       "    <tr>\n",
       "      <th>max</th>\n",
       "      <td>2.243032e+06</td>\n",
       "      <td>7.000000</td>\n",
       "      <td>2.099937e+06</td>\n",
       "      <td>66.000000</td>\n",
       "      <td>2517.000000</td>\n",
       "      <td>10.000000</td>\n",
       "    </tr>\n",
       "  </tbody>\n",
       "</table>\n",
       "</div>"
      ],
      "text/plain": [
       "       Order Number     Line Item   CustomerKey      StoreKey    ProductKey  \\\n",
       "count  6.288400e+04  62884.000000  6.288400e+04  62884.000000  62884.000000   \n",
       "mean   1.430905e+06      2.164207  1.180797e+06     31.802144   1125.859344   \n",
       "std    4.532963e+05      1.365170  5.859634e+05     22.978188    709.244010   \n",
       "min    3.660000e+05      1.000000  3.010000e+02      0.000000      1.000000   \n",
       "25%    1.121017e+06      1.000000  6.808580e+05      8.000000    437.000000   \n",
       "50%    1.498016e+06      2.000000  1.261200e+06     37.000000   1358.000000   \n",
       "75%    1.788010e+06      3.000000  1.686496e+06     53.000000   1650.000000   \n",
       "max    2.243032e+06      7.000000  2.099937e+06     66.000000   2517.000000   \n",
       "\n",
       "           Quantity  \n",
       "count  62884.000000  \n",
       "mean       3.144790  \n",
       "std        2.256371  \n",
       "min        1.000000  \n",
       "25%        1.000000  \n",
       "50%        2.000000  \n",
       "75%        4.000000  \n",
       "max       10.000000  "
      ]
     },
     "execution_count": 13,
     "metadata": {},
     "output_type": "execute_result"
    }
   ],
   "source": [
    "sales_data.describe()"
   ]
  },
  {
   "cell_type": "code",
   "execution_count": 14,
   "metadata": {},
   "outputs": [
    {
     "data": {
      "text/html": [
       "<div>\n",
       "<style scoped>\n",
       "    .dataframe tbody tr th:only-of-type {\n",
       "        vertical-align: middle;\n",
       "    }\n",
       "\n",
       "    .dataframe tbody tr th {\n",
       "        vertical-align: top;\n",
       "    }\n",
       "\n",
       "    .dataframe thead th {\n",
       "        text-align: right;\n",
       "    }\n",
       "</style>\n",
       "<table border=\"1\" class=\"dataframe\">\n",
       "  <thead>\n",
       "    <tr style=\"text-align: right;\">\n",
       "      <th></th>\n",
       "      <th>StoreKey</th>\n",
       "      <th>Square Meters</th>\n",
       "    </tr>\n",
       "  </thead>\n",
       "  <tbody>\n",
       "    <tr>\n",
       "      <th>count</th>\n",
       "      <td>67.000000</td>\n",
       "      <td>67.000000</td>\n",
       "    </tr>\n",
       "    <tr>\n",
       "      <th>mean</th>\n",
       "      <td>33.000000</td>\n",
       "      <td>1411.119403</td>\n",
       "    </tr>\n",
       "    <tr>\n",
       "      <th>std</th>\n",
       "      <td>19.485037</td>\n",
       "      <td>576.664141</td>\n",
       "    </tr>\n",
       "    <tr>\n",
       "      <th>min</th>\n",
       "      <td>0.000000</td>\n",
       "      <td>245.000000</td>\n",
       "    </tr>\n",
       "    <tr>\n",
       "      <th>25%</th>\n",
       "      <td>16.500000</td>\n",
       "      <td>1112.500000</td>\n",
       "    </tr>\n",
       "    <tr>\n",
       "      <th>50%</th>\n",
       "      <td>33.000000</td>\n",
       "      <td>1365.000000</td>\n",
       "    </tr>\n",
       "    <tr>\n",
       "      <th>75%</th>\n",
       "      <td>49.500000</td>\n",
       "      <td>2000.000000</td>\n",
       "    </tr>\n",
       "    <tr>\n",
       "      <th>max</th>\n",
       "      <td>66.000000</td>\n",
       "      <td>2105.000000</td>\n",
       "    </tr>\n",
       "  </tbody>\n",
       "</table>\n",
       "</div>"
      ],
      "text/plain": [
       "        StoreKey  Square Meters\n",
       "count  67.000000      67.000000\n",
       "mean   33.000000    1411.119403\n",
       "std    19.485037     576.664141\n",
       "min     0.000000     245.000000\n",
       "25%    16.500000    1112.500000\n",
       "50%    33.000000    1365.000000\n",
       "75%    49.500000    2000.000000\n",
       "max    66.000000    2105.000000"
      ]
     },
     "execution_count": 14,
     "metadata": {},
     "output_type": "execute_result"
    }
   ],
   "source": [
    "stores_data.describe()"
   ]
  },
  {
   "cell_type": "code",
   "execution_count": 8,
   "metadata": {},
   "outputs": [
    {
     "name": "stdout",
     "output_type": "stream",
     "text": [
      "Customers_data_missing_values\n",
      "CustomerKey    0\n",
      "Gender         0\n",
      "Name           0\n",
      "City           0\n",
      "State Code     0\n",
      "State          0\n",
      "Zip Code       0\n",
      "Country        0\n",
      "Continent      0\n",
      "Birthday       0\n",
      "dtype: int64\n",
      "\n",
      " sales_data_missing_values\n",
      "Order Number     0\n",
      "Line Item        0\n",
      "Order Date       0\n",
      "Delivery Date    0\n",
      "CustomerKey      0\n",
      "StoreKey         0\n",
      "ProductKey       0\n",
      "Quantity         0\n",
      "Currency Code    0\n",
      "dtype: int64\n",
      "\n",
      " stores_data_missing_values\n",
      "StoreKey         0\n",
      "Country          0\n",
      "State            0\n",
      "Square Meters    0\n",
      "Open Date        0\n",
      "dtype: int64\n"
     ]
    }
   ],
   "source": [
    "# Check for remaining missing values in each dataset\n",
    "print('Customers_data_missing_values')\n",
    "print(Customers_data.isnull().sum())\n",
    "\n",
    "print('\\n sales_data_missing_values')\n",
    "print(sales_data.isnull().sum())\n",
    "\n",
    "print('\\n stores_data_missing_values')\n",
    "print(stores_data.isnull().sum())\n"
   ]
  },
  {
   "cell_type": "code",
   "execution_count": 16,
   "metadata": {},
   "outputs": [
    {
     "data": {
      "text/plain": [
       "0"
      ]
     },
     "execution_count": 16,
     "metadata": {},
     "output_type": "execute_result"
    }
   ],
   "source": [
    "Customers_data.duplicated().sum()\n",
    "Exchange_rates.duplicated().sum()\n",
    "Product_data.duplicated().sum()\n",
    "sales_data.duplicated().sum()\n",
    "stores_data.duplicated().sum()\n"
   ]
  },
  {
   "cell_type": "code",
   "execution_count": null,
   "metadata": {},
   "outputs": [],
   "source": []
  },
  {
   "cell_type": "code",
   "execution_count": 20,
   "metadata": {},
   "outputs": [
    {
     "data": {
      "text/plain": [
       "0"
      ]
     },
     "execution_count": 20,
     "metadata": {},
     "output_type": "execute_result"
    }
   ],
   "source": [
    "stores_data.duplicated().sum()"
   ]
  },
  {
   "cell_type": "code",
   "execution_count": 19,
   "metadata": {},
   "outputs": [
    {
     "data": {
      "text/plain": [
       "0"
      ]
     },
     "execution_count": 19,
     "metadata": {},
     "output_type": "execute_result"
    }
   ],
   "source": [
    "sales_data.duplicated().sum()"
   ]
  },
  {
   "cell_type": "code",
   "execution_count": 18,
   "metadata": {},
   "outputs": [
    {
     "data": {
      "text/plain": [
       "0"
      ]
     },
     "execution_count": 18,
     "metadata": {},
     "output_type": "execute_result"
    }
   ],
   "source": [
    "Product_data.duplicated().sum()"
   ]
  },
  {
   "cell_type": "code",
   "execution_count": 17,
   "metadata": {},
   "outputs": [
    {
     "data": {
      "text/plain": [
       "0"
      ]
     },
     "execution_count": 17,
     "metadata": {},
     "output_type": "execute_result"
    }
   ],
   "source": [
    "Exchange_rates.duplicated().sum()"
   ]
  },
  {
   "cell_type": "code",
   "execution_count": 9,
   "metadata": {},
   "outputs": [
    {
     "name": "stdout",
     "output_type": "stream",
     "text": [
      "Index(['CustomerKey', 'Gender', 'Name', 'City', 'State Code', 'State',\n",
      "       'Zip Code', 'Country', 'Continent', 'Birthday'],\n",
      "      dtype='object')\n",
      "Index(['Order Number', 'Line Item', 'Order Date', 'Delivery Date',\n",
      "       'CustomerKey', 'StoreKey', 'ProductKey', 'Quantity', 'Currency Code'],\n",
      "      dtype='object')\n",
      "Index(['Order Number', 'Line Item', 'Order Date', 'Delivery Date',\n",
      "       'CustomerKey', 'StoreKey', 'ProductKey', 'Quantity', 'Currency Code'],\n",
      "      dtype='object')\n",
      "Index(['Date', 'Currency', 'Exchange'], dtype='object')\n",
      "Index(['StoreKey', 'Country', 'State', 'Square Meters', 'Open Date'], dtype='object')\n"
     ]
    }
   ],
   "source": [
    "print(Customers_data.columns)\n",
    "print(sales_data.columns)\n",
    "print(sales_data.columns)\n",
    "print(Exchange_rates.columns)\n",
    "print(stores_data.columns)\n"
   ]
  },
  {
   "cell_type": "code",
   "execution_count": 10,
   "metadata": {},
   "outputs": [],
   "source": [
    "# Convert date columns to datetime format\n",
    "\n",
    "Customers_data['Birthday']=pd.to_datetime(Customers_data['Birthday'],format='%m/%d/%Y',errors='coerce')\n",
    "sales_data['Order Date']=pd.to_datetime(sales_data['Order Date'],format='%m/%d/%Y',errors='coerce')\n",
    "sales_data['Delivery Date']=pd.to_datetime(sales_data['Delivery Date'],format='%m/%d/%Y',errors='coerce')\n",
    "Exchange_rates['Date']=pd.to_datetime(Exchange_rates['Date'],format='%m/%d/%Y',errors='coerce')\n",
    "stores_data['Open Date']=pd.to_datetime(stores_data['Open Date'],format='%m/%d/%Y',errors='coerce')"
   ]
  },
  {
   "cell_type": "code",
   "execution_count": 11,
   "metadata": {},
   "outputs": [
    {
     "name": "stdout",
     "output_type": "stream",
     "text": [
      "Order Number              int64\n",
      "Line Item                 int64\n",
      "Order Date       datetime64[ns]\n",
      "Delivery Date    datetime64[ns]\n",
      "CustomerKey               int64\n",
      "StoreKey                  int64\n",
      "ProductKey                int64\n",
      "Quantity                  int64\n",
      "Currency Code            object\n",
      "dtype: object\n",
      "Date        datetime64[ns]\n",
      "Currency            object\n",
      "Exchange           float64\n",
      "dtype: object\n",
      "StoreKey                  int64\n",
      "Country                  object\n",
      "State                    object\n",
      "Square Meters           float64\n",
      "Open Date        datetime64[ns]\n",
      "dtype: object\n",
      "CustomerKey             int64\n",
      "Gender                 object\n",
      "Name                   object\n",
      "City                   object\n",
      "State Code             object\n",
      "State                  object\n",
      "Zip Code               object\n",
      "Country                object\n",
      "Continent              object\n",
      "Birthday       datetime64[ns]\n",
      "dtype: object\n",
      "ProductKey         int64\n",
      "Product Name      object\n",
      "Brand             object\n",
      "Color             object\n",
      "Unit Cost USD     object\n",
      "Unit Price USD    object\n",
      "SubcategoryKey     int64\n",
      "Subcategory       object\n",
      "CategoryKey        int64\n",
      "Category          object\n",
      "dtype: object\n"
     ]
    }
   ],
   "source": [
    "#verifying Dtype\n",
    "print(sales_data.dtypes)\n",
    "print(Exchange_rates.dtypes)\n",
    "print(stores_data.dtypes)\n",
    "print(Customers_data.dtypes)\n",
    "print(Product_data.dtypes)\n"
   ]
  },
  {
   "cell_type": "code",
   "execution_count": 12,
   "metadata": {},
   "outputs": [],
   "source": [
    "#convert Numeric columns\n",
    "\n",
    "Customers_data['Zip Code']=pd.to_numeric(Customers_data['Zip Code'],errors='coerce')\n",
    "sales_data['Quantity']=pd.to_numeric(sales_data['Quantity'],errors='coerce')\n",
    "stores_data['Square Meters']=pd.to_numeric(stores_data['Square Meters'],errors='coerce')\n"
   ]
  },
  {
   "cell_type": "code",
   "execution_count": 13,
   "metadata": {},
   "outputs": [
    {
     "name": "stdout",
     "output_type": "stream",
     "text": [
      "CustomerKey             int64\n",
      "Gender                 object\n",
      "Name                   object\n",
      "City                   object\n",
      "State Code             object\n",
      "State                  object\n",
      "Zip Code              float64\n",
      "Country                object\n",
      "Continent              object\n",
      "Birthday       datetime64[ns]\n",
      "dtype: object\n",
      "Order Number              int64\n",
      "Line Item                 int64\n",
      "Order Date       datetime64[ns]\n",
      "Delivery Date    datetime64[ns]\n",
      "CustomerKey               int64\n",
      "StoreKey                  int64\n",
      "ProductKey                int64\n",
      "Quantity                  int64\n",
      "Currency Code            object\n",
      "dtype: object\n",
      "StoreKey                  int64\n",
      "Country                  object\n",
      "State                    object\n",
      "Square Meters           float64\n",
      "Open Date        datetime64[ns]\n",
      "dtype: object\n"
     ]
    }
   ],
   "source": [
    "#checking dtype for numeric columns\n",
    "\n",
    "print(Customers_data.dtypes)\n",
    "print(sales_data.dtypes)\n",
    "print(stores_data.dtypes)"
   ]
  },
  {
   "cell_type": "code",
   "execution_count": 14,
   "metadata": {},
   "outputs": [],
   "source": [
    "# mergeing dataset\n",
    "\n",
    "# You can analyze customer behavior (who is buying).\n",
    "# You can see what products are popular (what is being bought).\n",
    "# You can find out which stores are successful (where the sales are happening).\n",
    "\n",
    "### Merging Sales Data with Customers Data:\n",
    "\n",
    "# By combining these two datasets, you can see who is buying your products. This helps you understand:\n",
    "# Which customers are making purchases.\n",
    "# What products they are buying.\n",
    "# You can analyze customer trends, like whether certain products are more popular with specific age groups or genders.\n",
    "\n",
    "sales_customer_data=pd.merge(sales_data,Customers_data,on='CustomerKey',how='inner')\n",
    "\n",
    "# Merging Sales-Customer Data with Product Data\n",
    "\n",
    "#By adding product information, you can analyze:\n",
    "# What products are being sold: You can see if customers are buying high-priced items or certain categories.\n",
    "\n",
    "sales_customer_Product_data=pd.merge(sales_customer_data,Product_data,on='ProductKey',how='inner')\n",
    "\n",
    "#  Merging with Stores Data\n",
    "\n",
    "# Adding store information helps you see:\n",
    "# Where sales are happening: You can find out if certain stores are performing better than others.\n",
    "\n",
    "final_merge=pd.merge(sales_customer_Product_data,stores_data,on='StoreKey',how='inner')\n"
   ]
  },
  {
   "cell_type": "code",
   "execution_count": 15,
   "metadata": {},
   "outputs": [
    {
     "name": "stdout",
     "output_type": "stream",
     "text": [
      "   Order Number  Line Item Order Date Delivery Date  CustomerKey  StoreKey  \\\n",
      "0        366000          1 2016-01-01           NaT       265598        10   \n",
      "1       1998016          1 2020-06-20           NaT       399053        10   \n",
      "2       1730028          2 2019-09-26           NaT       245143        10   \n",
      "3       2214002          4 2021-01-22           NaT       384783        10   \n",
      "4       1394030          5 2018-10-25           NaT       397223        10   \n",
      "\n",
      "   ProductKey  Quantity Currency Code  Gender  ... Unit Cost USD  \\\n",
      "0        1304         1           CAD    Male  ...       $31.27    \n",
      "1          87         5           CAD  Female  ...       $45.98    \n",
      "2          87         6           CAD  Female  ...       $45.98    \n",
      "3        1619         5           CAD    Male  ...       $27.59    \n",
      "4          52         1           CAD    Male  ...       $91.95    \n",
      "\n",
      "  Unit Price USD SubcategoryKey                       Subcategory  \\\n",
      "0        $68.00             406  Cameras & Camcorders Accessories   \n",
      "1        $99.99             106              Bluetooth Headphones   \n",
      "2        $99.99             106              Bluetooth Headphones   \n",
      "3        $59.99             602                         Movie DVD   \n",
      "4       $199.95             104                     Recording Pen   \n",
      "\n",
      "   CategoryKey                       Category Country_y  State_y  \\\n",
      "0            4         Cameras and camcorders    Canada  Nunavut   \n",
      "1            1                          Audio    Canada  Nunavut   \n",
      "2            1                          Audio    Canada  Nunavut   \n",
      "3            6  Music, Movies and Audio Books    Canada  Nunavut   \n",
      "4            1                          Audio    Canada  Nunavut   \n",
      "\n",
      "  Square Meters  Open Date  \n",
      "0        1210.0 2015-04-04  \n",
      "1        1210.0 2015-04-04  \n",
      "2        1210.0 2015-04-04  \n",
      "3        1210.0 2015-04-04  \n",
      "4        1210.0 2015-04-04  \n",
      "\n",
      "[5 rows x 31 columns]\n",
      "(62884, 31)\n"
     ]
    }
   ],
   "source": [
    "#checking merge data \n",
    "\n",
    "print(final_merge.head())\n",
    "\n",
    "print(final_merge.shape)"
   ]
  },
  {
   "cell_type": "code",
   "execution_count": 16,
   "metadata": {},
   "outputs": [
    {
     "data": {
      "text/html": [
       "<div>\n",
       "<style scoped>\n",
       "    .dataframe tbody tr th:only-of-type {\n",
       "        vertical-align: middle;\n",
       "    }\n",
       "\n",
       "    .dataframe tbody tr th {\n",
       "        vertical-align: top;\n",
       "    }\n",
       "\n",
       "    .dataframe thead th {\n",
       "        text-align: right;\n",
       "    }\n",
       "</style>\n",
       "<table border=\"1\" class=\"dataframe\">\n",
       "  <thead>\n",
       "    <tr style=\"text-align: right;\">\n",
       "      <th></th>\n",
       "      <th>Order Number</th>\n",
       "      <th>Line Item</th>\n",
       "      <th>Order Date</th>\n",
       "      <th>Delivery Date</th>\n",
       "      <th>CustomerKey</th>\n",
       "      <th>StoreKey</th>\n",
       "      <th>ProductKey</th>\n",
       "      <th>Quantity</th>\n",
       "      <th>Zip Code</th>\n",
       "      <th>Birthday</th>\n",
       "      <th>SubcategoryKey</th>\n",
       "      <th>CategoryKey</th>\n",
       "      <th>Square Meters</th>\n",
       "      <th>Open Date</th>\n",
       "    </tr>\n",
       "  </thead>\n",
       "  <tbody>\n",
       "    <tr>\n",
       "      <th>count</th>\n",
       "      <td>6.288400e+04</td>\n",
       "      <td>62884.000000</td>\n",
       "      <td>62884</td>\n",
       "      <td>13165</td>\n",
       "      <td>6.288400e+04</td>\n",
       "      <td>62884.000000</td>\n",
       "      <td>62884.000000</td>\n",
       "      <td>62884.000000</td>\n",
       "      <td>47079.000000</td>\n",
       "      <td>62884</td>\n",
       "      <td>62884.000000</td>\n",
       "      <td>62884.000000</td>\n",
       "      <td>62884.000000</td>\n",
       "      <td>62884</td>\n",
       "    </tr>\n",
       "    <tr>\n",
       "      <th>mean</th>\n",
       "      <td>1.430905e+06</td>\n",
       "      <td>2.164207</td>\n",
       "      <td>2018-11-30 21:21:56.939126272</td>\n",
       "      <td>2019-01-16 16:14:21.921762304</td>\n",
       "      <td>1.180797e+06</td>\n",
       "      <td>31.802144</td>\n",
       "      <td>1125.859344</td>\n",
       "      <td>3.144790</td>\n",
       "      <td>48651.460418</td>\n",
       "      <td>1968-12-05 20:00:44.882641056</td>\n",
       "      <td>450.198238</td>\n",
       "      <td>4.469611</td>\n",
       "      <td>1679.347767</td>\n",
       "      <td>2011-05-30 02:16:19.174352640</td>\n",
       "    </tr>\n",
       "    <tr>\n",
       "      <th>min</th>\n",
       "      <td>3.660000e+05</td>\n",
       "      <td>1.000000</td>\n",
       "      <td>2016-01-01 00:00:00</td>\n",
       "      <td>2016-01-06 00:00:00</td>\n",
       "      <td>3.010000e+02</td>\n",
       "      <td>0.000000</td>\n",
       "      <td>1.000000</td>\n",
       "      <td>1.000000</td>\n",
       "      <td>10.000000</td>\n",
       "      <td>1935-02-04 00:00:00</td>\n",
       "      <td>101.000000</td>\n",
       "      <td>1.000000</td>\n",
       "      <td>245.000000</td>\n",
       "      <td>2005-03-04 00:00:00</td>\n",
       "    </tr>\n",
       "    <tr>\n",
       "      <th>25%</th>\n",
       "      <td>1.121017e+06</td>\n",
       "      <td>1.000000</td>\n",
       "      <td>2018-01-25 00:00:00</td>\n",
       "      <td>2018-05-05 00:00:00</td>\n",
       "      <td>6.808580e+05</td>\n",
       "      <td>8.000000</td>\n",
       "      <td>437.000000</td>\n",
       "      <td>1.000000</td>\n",
       "      <td>21117.500000</td>\n",
       "      <td>1952-02-11 00:00:00</td>\n",
       "      <td>303.000000</td>\n",
       "      <td>3.000000</td>\n",
       "      <td>1300.000000</td>\n",
       "      <td>2010-01-01 00:00:00</td>\n",
       "    </tr>\n",
       "    <tr>\n",
       "      <th>50%</th>\n",
       "      <td>1.498016e+06</td>\n",
       "      <td>2.000000</td>\n",
       "      <td>2019-02-06 00:00:00</td>\n",
       "      <td>2019-03-05 00:00:00</td>\n",
       "      <td>1.261200e+06</td>\n",
       "      <td>37.000000</td>\n",
       "      <td>1358.000000</td>\n",
       "      <td>2.000000</td>\n",
       "      <td>47557.000000</td>\n",
       "      <td>1968-11-09 00:00:00</td>\n",
       "      <td>501.000000</td>\n",
       "      <td>5.000000</td>\n",
       "      <td>2000.000000</td>\n",
       "      <td>2010-01-01 00:00:00</td>\n",
       "    </tr>\n",
       "    <tr>\n",
       "      <th>75%</th>\n",
       "      <td>1.788010e+06</td>\n",
       "      <td>3.000000</td>\n",
       "      <td>2019-11-23 00:00:00</td>\n",
       "      <td>2019-12-18 00:00:00</td>\n",
       "      <td>1.686496e+06</td>\n",
       "      <td>53.000000</td>\n",
       "      <td>1650.000000</td>\n",
       "      <td>4.000000</td>\n",
       "      <td>77002.000000</td>\n",
       "      <td>1985-09-24 00:00:00</td>\n",
       "      <td>602.000000</td>\n",
       "      <td>6.000000</td>\n",
       "      <td>2000.000000</td>\n",
       "      <td>2013-06-07 00:00:00</td>\n",
       "    </tr>\n",
       "    <tr>\n",
       "      <th>max</th>\n",
       "      <td>2.243032e+06</td>\n",
       "      <td>7.000000</td>\n",
       "      <td>2021-02-20 00:00:00</td>\n",
       "      <td>2021-02-27 00:00:00</td>\n",
       "      <td>2.099937e+06</td>\n",
       "      <td>66.000000</td>\n",
       "      <td>2517.000000</td>\n",
       "      <td>10.000000</td>\n",
       "      <td>99986.000000</td>\n",
       "      <td>2002-01-30 00:00:00</td>\n",
       "      <td>808.000000</td>\n",
       "      <td>8.000000</td>\n",
       "      <td>2105.000000</td>\n",
       "      <td>2019-03-05 00:00:00</td>\n",
       "    </tr>\n",
       "    <tr>\n",
       "      <th>std</th>\n",
       "      <td>4.532963e+05</td>\n",
       "      <td>1.365170</td>\n",
       "      <td>NaN</td>\n",
       "      <td>NaN</td>\n",
       "      <td>5.859634e+05</td>\n",
       "      <td>22.978188</td>\n",
       "      <td>709.244010</td>\n",
       "      <td>2.256371</td>\n",
       "      <td>30836.247377</td>\n",
       "      <td>NaN</td>\n",
       "      <td>212.710652</td>\n",
       "      <td>2.132682</td>\n",
       "      <td>442.535481</td>\n",
       "      <td>NaN</td>\n",
       "    </tr>\n",
       "  </tbody>\n",
       "</table>\n",
       "</div>"
      ],
      "text/plain": [
       "       Order Number     Line Item                     Order Date  \\\n",
       "count  6.288400e+04  62884.000000                          62884   \n",
       "mean   1.430905e+06      2.164207  2018-11-30 21:21:56.939126272   \n",
       "min    3.660000e+05      1.000000            2016-01-01 00:00:00   \n",
       "25%    1.121017e+06      1.000000            2018-01-25 00:00:00   \n",
       "50%    1.498016e+06      2.000000            2019-02-06 00:00:00   \n",
       "75%    1.788010e+06      3.000000            2019-11-23 00:00:00   \n",
       "max    2.243032e+06      7.000000            2021-02-20 00:00:00   \n",
       "std    4.532963e+05      1.365170                            NaN   \n",
       "\n",
       "                       Delivery Date   CustomerKey      StoreKey  \\\n",
       "count                          13165  6.288400e+04  62884.000000   \n",
       "mean   2019-01-16 16:14:21.921762304  1.180797e+06     31.802144   \n",
       "min              2016-01-06 00:00:00  3.010000e+02      0.000000   \n",
       "25%              2018-05-05 00:00:00  6.808580e+05      8.000000   \n",
       "50%              2019-03-05 00:00:00  1.261200e+06     37.000000   \n",
       "75%              2019-12-18 00:00:00  1.686496e+06     53.000000   \n",
       "max              2021-02-27 00:00:00  2.099937e+06     66.000000   \n",
       "std                              NaN  5.859634e+05     22.978188   \n",
       "\n",
       "         ProductKey      Quantity      Zip Code  \\\n",
       "count  62884.000000  62884.000000  47079.000000   \n",
       "mean    1125.859344      3.144790  48651.460418   \n",
       "min        1.000000      1.000000     10.000000   \n",
       "25%      437.000000      1.000000  21117.500000   \n",
       "50%     1358.000000      2.000000  47557.000000   \n",
       "75%     1650.000000      4.000000  77002.000000   \n",
       "max     2517.000000     10.000000  99986.000000   \n",
       "std      709.244010      2.256371  30836.247377   \n",
       "\n",
       "                            Birthday  SubcategoryKey   CategoryKey  \\\n",
       "count                          62884    62884.000000  62884.000000   \n",
       "mean   1968-12-05 20:00:44.882641056      450.198238      4.469611   \n",
       "min              1935-02-04 00:00:00      101.000000      1.000000   \n",
       "25%              1952-02-11 00:00:00      303.000000      3.000000   \n",
       "50%              1968-11-09 00:00:00      501.000000      5.000000   \n",
       "75%              1985-09-24 00:00:00      602.000000      6.000000   \n",
       "max              2002-01-30 00:00:00      808.000000      8.000000   \n",
       "std                              NaN      212.710652      2.132682   \n",
       "\n",
       "       Square Meters                      Open Date  \n",
       "count   62884.000000                          62884  \n",
       "mean     1679.347767  2011-05-30 02:16:19.174352640  \n",
       "min       245.000000            2005-03-04 00:00:00  \n",
       "25%      1300.000000            2010-01-01 00:00:00  \n",
       "50%      2000.000000            2010-01-01 00:00:00  \n",
       "75%      2000.000000            2013-06-07 00:00:00  \n",
       "max      2105.000000            2019-03-05 00:00:00  \n",
       "std       442.535481                            NaN  "
      ]
     },
     "execution_count": 16,
     "metadata": {},
     "output_type": "execute_result"
    }
   ],
   "source": [
    "#EDA PROCESS ( Exploratory Data Analysis )\n",
    "\n",
    " # 1)Descriptive Statistics\n",
    "\n",
    "final_merge.describe()\n",
    "\n"
   ]
  },
  {
   "cell_type": "code",
   "execution_count": 17,
   "metadata": {},
   "outputs": [
    {
     "name": "stdout",
     "output_type": "stream",
     "text": [
      "mean:/n Order Number      1.430905e+06\n",
      "Line Item         2.164207e+00\n",
      "CustomerKey       1.180797e+06\n",
      "StoreKey          3.180214e+01\n",
      "ProductKey        1.125859e+03\n",
      "Quantity          3.144790e+00\n",
      "Zip Code          4.865146e+04\n",
      "SubcategoryKey    4.501982e+02\n",
      "CategoryKey       4.469611e+00\n",
      "Square Meters     1.679348e+03\n",
      "dtype: float64\n",
      "median:/n Order Number      1498015.5\n",
      "Line Item               2.0\n",
      "CustomerKey       1261200.5\n",
      "StoreKey               37.0\n",
      "ProductKey           1358.0\n",
      "Quantity                2.0\n",
      "Zip Code            47557.0\n",
      "SubcategoryKey        501.0\n",
      "CategoryKey             5.0\n",
      "Square Meters        2000.0\n",
      "dtype: float64\n",
      "mode:/n Order Number                                          367005\n",
      "Line Item                                                1.0\n",
      "Order Date                               2019-12-21 00:00:00\n",
      "Delivery Date                            2020-01-06 00:00:00\n",
      "CustomerKey                                         723572.0\n",
      "StoreKey                                                 0.0\n",
      "ProductKey                                             423.0\n",
      "Quantity                                                 1.0\n",
      "Currency Code                                            USD\n",
      "Gender                                                  Male\n",
      "Name                                        Gaspare Trevisan\n",
      "City                                                 Toronto\n",
      "State Code                                                CA\n",
      "State_x                                           California\n",
      "Zip Code                                             90017.0\n",
      "Country_x                                      United States\n",
      "Continent                                      North America\n",
      "Birthday                                 1950-05-05 00:00:00\n",
      "Product Name      Adventure Works Desktop PC2.30 MD230 Black\n",
      "Brand                                                Contoso\n",
      "Color                                                  Black\n",
      "Unit Cost USD                                         $5.09 \n",
      "Unit Price USD                                        $9.99 \n",
      "SubcategoryKey                                         602.0\n",
      "Subcategory                                        Movie DVD\n",
      "CategoryKey                                              3.0\n",
      "Category                                           Computers\n",
      "Country_y                                      United States\n",
      "State_y                                               Online\n",
      "Square Meters                                         2000.0\n",
      "Open Date                                2010-01-01 00:00:00\n",
      "Name: 0, dtype: object\n"
     ]
    }
   ],
   "source": [
    "# Measures of Central Tendency\n",
    "\n",
    "mean_value=final_merge.mean(numeric_only=True)\n",
    "\n",
    "median_value=final_merge.median(numeric_only=True)\n",
    "\n",
    "mode_value=final_merge.mode().iloc[0]   # we can get first mode value\n",
    "\n",
    "print(\"mean:/n\", mean_value)\n",
    "print(\"median:/n\",median_value)\n",
    "print(\"mode:/n\",mode_value)"
   ]
  },
  {
   "cell_type": "code",
   "execution_count": 18,
   "metadata": {},
   "outputs": [
    {
     "name": "stdout",
     "output_type": "stream",
     "text": [
      "Order Number               int64\n",
      "Line Item                  int64\n",
      "Order Date        datetime64[ns]\n",
      "Delivery Date     datetime64[ns]\n",
      "CustomerKey                int64\n",
      "StoreKey                   int64\n",
      "ProductKey                 int64\n",
      "Quantity                   int64\n",
      "Currency Code             object\n",
      "Gender                    object\n",
      "Name                      object\n",
      "City                      object\n",
      "State Code                object\n",
      "State_x                   object\n",
      "Zip Code                 float64\n",
      "Country_x                 object\n",
      "Continent                 object\n",
      "Birthday          datetime64[ns]\n",
      "Product Name              object\n",
      "Brand                     object\n",
      "Color                     object\n",
      "Unit Cost USD             object\n",
      "Unit Price USD            object\n",
      "SubcategoryKey             int64\n",
      "Subcategory               object\n",
      "CategoryKey                int64\n",
      "Category                  object\n",
      "Country_y                 object\n",
      "State_y                   object\n",
      "Square Meters            float64\n",
      "Open Date         datetime64[ns]\n",
      "dtype: object\n"
     ]
    }
   ],
   "source": [
    "# checking datatype\n",
    "\n",
    "print(final_merge.dtypes)"
   ]
  },
  {
   "cell_type": "code",
   "execution_count": 19,
   "metadata": {},
   "outputs": [
    {
     "name": "stdout",
     "output_type": "stream",
     "text": [
      "Order Number               int64\n",
      "Line Item                  int64\n",
      "Order Date        datetime64[ns]\n",
      "Delivery Date     datetime64[ns]\n",
      "CustomerKey                int64\n",
      "StoreKey                   int64\n",
      "ProductKey                 int64\n",
      "Quantity                   int64\n",
      "Currency Code           category\n",
      "Gender                  category\n",
      "Name                    category\n",
      "City                    category\n",
      "State Code              category\n",
      "State_x                 category\n",
      "Zip Code                 float64\n",
      "Country_x               category\n",
      "Continent                 object\n",
      "Birthday          datetime64[ns]\n",
      "Product Name            category\n",
      "Brand                   category\n",
      "Color                   category\n",
      "Unit Cost USD            float64\n",
      "Unit Price USD           float64\n",
      "SubcategoryKey             int64\n",
      "Subcategory             category\n",
      "CategoryKey                int64\n",
      "Category                category\n",
      "Country_y               category\n",
      "State_y                 category\n",
      "Square Meters            float64\n",
      "Open Date         datetime64[ns]\n",
      "dtype: object\n"
     ]
    }
   ],
   "source": [
    "# converting price columns  (Removing '$' and converting to float)\n",
    "\n",
    "final_merge['Unit Cost USD']=final_merge['Unit Cost USD'].replace({'\\$':'', ',':''},regex=True).astype(float)\n",
    "\n",
    "final_merge['Unit Price USD']=final_merge['Unit Price USD'].replace({'\\$':'', ',':''},regex=True).astype(float)\n",
    "\n",
    "#converting Categorical columns\n",
    "\n",
    "  #convert certain object for categorical column\n",
    "\n",
    "categorical_col=['Currency Code','Gender','City','State Code','State_x','Country_x','Product Name','Brand','Color','Name','Subcategory','Category','Country_y','State_y']\n",
    "final_merge[categorical_col]=final_merge[categorical_col].astype('category')\n",
    "\n",
    "print(final_merge.dtypes)\n"
   ]
  },
  {
   "cell_type": "code",
   "execution_count": 20,
   "metadata": {},
   "outputs": [
    {
     "name": "stdout",
     "output_type": "stream",
     "text": [
      "range_value: /n Order Number      1877032.00\n",
      "Line Item               6.00\n",
      "CustomerKey       2099636.00\n",
      "StoreKey               66.00\n",
      "ProductKey           2516.00\n",
      "Quantity                9.00\n",
      "Zip Code            99976.00\n",
      "Unit Cost USD        1059.74\n",
      "Unit Price USD       3199.04\n",
      "SubcategoryKey        707.00\n",
      "CategoryKey             7.00\n",
      "Square Meters        1860.00\n",
      "dtype: float64\n",
      "Standard_div: /n Order Number      453296.304711\n",
      "Line Item              1.365170\n",
      "CustomerKey       585963.395414\n",
      "StoreKey              22.978188\n",
      "ProductKey           709.244010\n",
      "Quantity               2.256371\n",
      "Zip Code           30836.247377\n",
      "Unit Cost USD        140.033327\n",
      "Unit Price USD       382.827515\n",
      "SubcategoryKey       212.710652\n",
      "CategoryKey            2.132682\n",
      "Square Meters        442.535481\n",
      "dtype: float64\n",
      "Interquartile Range: /n Order Number       666993.00\n",
      "Line Item               2.00\n",
      "CustomerKey       1005638.00\n",
      "StoreKey               45.00\n",
      "ProductKey           1213.00\n",
      "Quantity                3.00\n",
      "Zip Code            55884.50\n",
      "Unit Cost USD         116.37\n",
      "Unit Price USD        252.05\n",
      "SubcategoryKey        299.00\n",
      "CategoryKey             3.00\n",
      "Square Meters         700.00\n",
      "dtype: float64\n"
     ]
    }
   ],
   "source": [
    "# Measure of Spread \n",
    "\n",
    "# standard Deviation and Varience understand for numerical columns like Quentity , productKey , StoreKey\n",
    "#  Range & IQR\n",
    "\n",
    "numerical_column=final_merge.select_dtypes(include=['Float64','int64']).columns\n",
    "\n",
    "range_value=final_merge[numerical_column].max() - final_merge[numerical_column].min()\n",
    "\n",
    "Standard_div=final_merge[numerical_column].std()\n",
    "\n",
    "iqr_value=final_merge[numerical_column].quantile(0.75) - final_merge[numerical_column].quantile(0.25)\n",
    "\n",
    "print('range_value: /n',range_value)\n",
    "print('Standard_div: /n',Standard_div)\n",
    "print('Interquartile Range: /n',iqr_value)\n",
    "\n",
    "\n"
   ]
  },
  {
   "cell_type": "code",
   "execution_count": null,
   "metadata": {},
   "outputs": [],
   "source": []
  },
  {
   "cell_type": "markdown",
   "metadata": {},
   "source": [
    "# Insights from Skewness:\n",
    "Positive Skewness:\n",
    "Variables like Line Item (1.33), Quantity (1.11), Unit Cost USD (2.90), and Unit Price USD (3.56) have positive skewness. This indicates that these distributions have longer right tails, suggesting that there are a few instances of high values.\n",
    "Negative skewness:\n",
    "Variables like Order Number (-0.54), CustomerKey (-0.26), and others exhibit negative skewness. This suggests that there are lower values that might be affecting the mean, indicating a concentration of data towards higher values.\n",
    "\n",
    "# Insights from Kurtosis:\n",
    "\n",
    "Leptokurtic Distribution (Kurtosis > 0):\n",
    "Line Item (1.48), Unit Cost USD (11.92), and Unit Price USD (17.57) have positive kurtosis, indicating a leptokurtic distribution. This suggests that the data has heavier tails and a sharper peak than a normal distribution, indicating more frequent extreme values.\n",
    "\n",
    "Platykurtic Distribution (Kurtosis < 0):\n",
    "Variables such as Order Number (-0.51), CustomerKey (-1.12), and StoreKey (-1.45) have negative kurtosis, indicating a platykurtic distribution. This means that the data is more uniform with lighter tails and a flatter peak compared to a normal distribution\n"
   ]
  },
  {
   "cell_type": "markdown",
   "metadata": {},
   "source": [
    "# Data Visualization:"
   ]
  },
  {
   "cell_type": "code",
   "execution_count": 23,
   "metadata": {},
   "outputs": [
    {
     "name": "stdout",
     "output_type": "stream",
     "text": [
      "Index(['Order Number', 'Line Item', 'Order Date', 'Delivery Date',\n",
      "       'CustomerKey', 'StoreKey', 'ProductKey', 'Quantity', 'Currency Code',\n",
      "       'Gender', 'Name', 'City', 'State Code', 'State_x', 'Zip Code',\n",
      "       'Country_x', 'Continent', 'Birthday', 'Product Name', 'Brand', 'Color',\n",
      "       'Unit Cost USD', 'Unit Price USD', 'SubcategoryKey', 'Subcategory',\n",
      "       'CategoryKey', 'Category', 'Country_y', 'State_y', 'Square Meters',\n",
      "       'Open Date'],\n",
      "      dtype='object')\n"
     ]
    }
   ],
   "source": [
    "print(final_merge.columns)\n"
   ]
  },
  {
   "cell_type": "code",
   "execution_count": 26,
   "metadata": {},
   "outputs": [
    {
     "name": "stderr",
     "output_type": "stream",
     "text": [
      "c:\\Users\\admin\\anaconda3\\Lib\\site-packages\\seaborn\\_oldcore.py:1119: FutureWarning: use_inf_as_na option is deprecated and will be removed in a future version. Convert inf values to NaN before operating instead.\n",
      "  with pd.option_context('mode.use_inf_as_na', True):\n"
     ]
    },
    {
     "data": {
      "image/png": "[encoded data removed]",
      "text/plain": [
       "<Figure size 1000x600 with 1 Axes>"
      ]
     },
     "metadata": {},
     "output_type": "display_data"
    }
   ],
   "source": [
    "#sales data visulazise\n",
    "import matplotlib.pyplot as plt\n",
    "\n",
    "import seaborn as sns\n",
    "\n",
    "plt.figure(figsize=(10, 6))\n",
    "sns.histplot(final_merge['Unit Price USD'], kde=True, bins=30)\n",
    "plt.title('Distribution of Unit Price')\n",
    "plt.xlabel(\"Unit Price USD\")\n",
    "plt.ylabel(\"Frequency\")\n",
    "plt.show()\n",
    "\n"
   ]
  },
  {
   "cell_type": "code",
   "execution_count": 27,
   "metadata": {},
   "outputs": [
    {
     "data": {
      "image/png": "[encoded data removed]",
      "text/plain": [
       "<Figure size 1000x600 with 1 Axes>"
      ]
     },
     "metadata": {},
     "output_type": "display_data"
    }
   ],
   "source": [
    "# 2. Box Plot of Sales Amount\n",
    "plt.figure(figsize=(10, 6))\n",
    "sns.boxplot(x=final_merge['Unit Price USD'])\n",
    "plt.title('Box Plot of Unit Price')\n",
    "plt.xlabel(\"Unit Price USD\")\n",
    "plt.show()"
   ]
  },
  {
   "cell_type": "code",
   "execution_count": 28,
   "metadata": {},
   "outputs": [
    {
     "name": "stderr",
     "output_type": "stream",
     "text": [
      "c:\\Users\\admin\\anaconda3\\Lib\\site-packages\\seaborn\\categorical.py:641: FutureWarning: The default of observed=False is deprecated and will be changed to True in a future version of pandas. Pass observed=False to retain current behavior or observed=True to adopt the future default and silence this warning.\n",
      "  grouped_vals = vals.groupby(grouper)\n"
     ]
    },
    {
     "data": {
      "image/png": "[encoded data removed]",
      "text/plain": [
       "<Figure size 1000x600 with 1 Axes>"
      ]
     },
     "metadata": {},
     "output_type": "display_data"
    }
   ],
   "source": [
    "# 3. Bar Plot of Customer Distribution by Gender\n",
    "plt.figure(figsize=(10, 6))\n",
    "sns.countplot(data=final_merge, x='Gender')\n",
    "plt.title('Customer Distribution by Gender')\n",
    "plt.xlabel(\"Gender\")\n",
    "plt.ylabel(\"Number of Customers\")\n",
    "plt.show()"
   ]
  },
  {
   "cell_type": "code",
   "execution_count": 29,
   "metadata": {},
   "outputs": [
    {
     "data": {
      "image/png": "[encoded data removed]",
      "text/plain": [
       "<Figure size 800x800 with 1 Axes>"
      ]
     },
     "metadata": {},
     "output_type": "display_data"
    }
   ],
   "source": [
    "# 4. Pie Chart of Customer Distribution by Region\n",
    "region_counts = final_merge['Country_x'].value_counts()\n",
    "plt.figure(figsize=(8, 8))\n",
    "plt.pie(region_counts, labels=region_counts.index, autopct='%1.1f%%')\n",
    "plt.title('Customer Distribution by Country')\n",
    "plt.show()"
   ]
  },
  {
   "cell_type": "code",
   "execution_count": 30,
   "metadata": {},
   "outputs": [
    {
     "data": {
      "image/png": "[encoded data removed]",
      "text/plain": [
       "<Figure size 1200x600 with 1 Axes>"
      ]
     },
     "metadata": {},
     "output_type": "display_data"
    }
   ],
   "source": [
    "# 5. Bar Plot of Total Sales by Store\n",
    "store_sales = final_merge.groupby('StoreKey')['Unit Price USD'].sum().sort_values(ascending=False)\n",
    "plt.figure(figsize=(12, 6))\n",
    "store_sales.plot(kind='bar')\n",
    "plt.title('Total Sales by Store')\n",
    "plt.xlabel(\"Store Key\")\n",
    "plt.ylabel(\"Total Sales Amount (USD)\")\n",
    "plt.show()"
   ]
  },
  {
   "cell_type": "code",
   "execution_count": 33,
   "metadata": {},
   "outputs": [
    {
     "name": "stderr",
     "output_type": "stream",
     "text": [
      "C:\\Users\\admin\\AppData\\Local\\Temp\\ipykernel_7852\\2721039370.py:2: FutureWarning: The default of observed=False is deprecated and will be changed to True in a future version of pandas. Pass observed=False to retain current behavior or observed=True to adopt the future default and silence this warning.\n",
      "  product_sales = final_merge.groupby('Product Name')['Unit Price USD'].sum().sort_values(ascending=False).head(10)\n"
     ]
    },
    {
     "data": {
      "image/png": "[encoded data removed]",
      "text/plain": [
       "<Figure size 1200x600 with 1 Axes>"
      ]
     },
     "metadata": {},
     "output_type": "display_data"
    }
   ],
   "source": [
    "# 6. Bar Plot of Top Products by Sales Amount\n",
    "product_sales = final_merge.groupby('Product Name')['Unit Price USD'].sum().sort_values(ascending=False).head(10)\n",
    "plt.figure(figsize=(12, 6))\n",
    "product_sales.plot(kind='bar')\n",
    "plt.title('Top 10 Products by Sales Amount')\n",
    "plt.xlabel(\"Product Name\")\n",
    "plt.ylabel(\"Total Sales Amount (USD)\")\n",
    "plt.xticks(rotation=45)\n",
    "plt.show()"
   ]
  },
  {
   "cell_type": "code",
   "execution_count": 9,
   "metadata": {},
   "outputs": [
    {
     "name": "stderr",
     "output_type": "stream",
     "text": [
      "c:\\Users\\admin\\anaconda3\\Lib\\site-packages\\seaborn\\_oldcore.py:1119: FutureWarning: use_inf_as_na option is deprecated and will be removed in a future version. Convert inf values to NaN before operating instead.\n",
      "  with pd.option_context('mode.use_inf_as_na', True):\n"
     ]
    },
    {
     "data": {
      "image/png": "[encoded data removed]",
      "text/plain": [
       "<Figure size 640x480 with 1 Axes>"
      ]
     },
     "metadata": {},
     "output_type": "display_data"
    }
   ],
   "source": [
    "import matplotlib.pyplot as plt\n",
    "import seaborn as sns\n",
    "\n",
    "sns.histplot(stores_data['Square Meters'], bins=10)\n",
    "plt.title(\"Distribution of Store Sizes (Square Meters)\")\n",
    "plt.xlabel(\"Square Meters\")\n",
    "plt.ylabel(\"Frequency\")\n",
    "plt.show()\n"
   ]
  },
  {
   "cell_type": "code",
   "execution_count": null,
   "metadata": {},
   "outputs": [],
   "source": []
  }
 ],
 "metadata": {
  "kernelspec": {
   "display_name": "Python 3",
   "language": "python",
   "name": "python3"
  },
  "language_info": {
   "codemirror_mode": {
    "name": "ipython",
    "version": 3
   },
   "file_extension": ".py",
   "mimetype": "text/x-python",
   "name": "python",
   "nbconvert_exporter": "python",
   "pygments_lexer": "ipython3",
   "version": "3.11.7"
  }
 },
 "nbformat": 4,
 "nbformat_minor": 2
}
